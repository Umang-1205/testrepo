{
 "cells": [
  {
   "cell_type": "markdown",
   "id": "4a15302a-86c9-4ec7-985b-630650b3b230",
   "metadata": {},
   "source": [
    "Data Science Tools and Ecosystem"
   ]
  },
  {
   "cell_type": "markdown",
   "id": "60e76a77-d28e-49bb-be0f-a8ba4dc1038b",
   "metadata": {},
   "source": [
    "In this notebook, Data Science Tools and Ecosystem are summarized."
   ]
  },
  {
   "cell_type": "markdown",
   "id": "5946dde1-d873-464a-9743-64cc5ee30ef8",
   "metadata": {},
   "source": [
    "**Objectives:**\n",
    "- List popular languages for Data Science\n",
    "- commonly used libraries in data science\n",
    "- commonly used data science tools\n",
    "- evaluating arithmetic expression in python\n",
    "- converting minutes into hours"
   ]
  },
  {
   "cell_type": "markdown",
   "id": "6090b103-52fa-479e-9993-5b3c76c333e4",
   "metadata": {},
   "source": [
    "Some of the popular languages that Data Scientists use are:\n",
    "1. Python\n",
    "2. R\n",
    "3. Julia"
   ]
  },
  {
   "cell_type": "markdown",
   "id": "cb8bb76c-16b8-4d0a-96cb-4d79466045a4",
   "metadata": {},
   "source": [
    "Some of the commonly used libraries used by Data Scientists include:\n",
    "1. Pandas\n",
    "2. Numpy\n",
    "3. Tenserflow"
   ]
  },
  {
   "cell_type": "markdown",
   "id": "2a90527a-381d-4e96-a429-2220c6c2734d",
   "metadata": {},
   "source": [
    "| Data Science Tools | \n",
    "| -------------| \n",
    "| MySql | \n",
    "| Pixie Dust | \n",
    "| git | "
   ]
  },
  {
   "cell_type": "markdown",
   "id": "43a4ccf6-4874-49b8-b8b0-412bbfe41520",
   "metadata": {},
   "source": [
    "### H3: Below are a few examples of evaluating arithmetic expressions in Python"
   ]
  },
  {
   "cell_type": "code",
   "execution_count": 1,
   "id": "df6e6609-7130-45ed-97b1-30424c4c1bc5",
   "metadata": {
    "tags": []
   },
   "outputs": [
    {
     "data": {
      "text/plain": [
       "17"
      ]
     },
     "execution_count": 1,
     "metadata": {},
     "output_type": "execute_result"
    }
   ],
   "source": [
    "(3*4)+5\n",
    " # This a simple arithmetic expression to mutiply then add integers"
   ]
  },
  {
   "cell_type": "code",
   "execution_count": 2,
   "id": "aeb56ae4-ddb5-44ed-a5d8-46ba80cd324c",
   "metadata": {
    "tags": []
   },
   "outputs": [
    {
     "name": "stdout",
     "output_type": "stream",
     "text": [
      "Hours= 3\n",
      "Minutes= 20\n"
     ]
    }
   ],
   "source": [
    "# This will convert 200 minutes to hours by diving by 60\n",
    "min = 200\n",
    "h=min//60\n",
    "m=min%60\n",
    "print(\"Hours=\",h)\n",
    "print(\"Minutes=\",m)"
   ]
  },
  {
   "cell_type": "markdown",
   "id": "d2b389eb-0b4a-4d1d-8f68-8bd81a32b501",
   "metadata": {},
   "source": [
    "## H2: Author\n",
    "Umang Maheshwari"
   ]
  }
 ],
 "metadata": {
  "kernelspec": {
   "display_name": "Python",
   "language": "python",
   "name": "conda-env-python-py"
  },
  "language_info": {
   "codemirror_mode": {
    "name": "ipython",
    "version": 3
   },
   "file_extension": ".py",
   "mimetype": "text/x-python",
   "name": "python",
   "nbconvert_exporter": "python",
   "pygments_lexer": "ipython3",
   "version": "3.7.12"
  }
 },
 "nbformat": 4,
 "nbformat_minor": 5
}
